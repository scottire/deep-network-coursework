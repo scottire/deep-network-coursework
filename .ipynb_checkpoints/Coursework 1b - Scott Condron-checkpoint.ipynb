{
 "cells": [
  {
   "cell_type": "code",
   "execution_count": 2,
   "metadata": {},
   "outputs": [],
   "source": [
    "%matplotlib inline\n",
    "'''\n",
    "@author: Scott Condron\n",
    "'''\n",
    "from sklearn.utils import shuffle\n",
    "from sklearn.metrics import log_loss\n",
    "\n",
    "import numpy as np\n",
    "import matplotlib.pyplot as plt\n",
    "import pandas as pd\n",
    "import h5py\n",
    "import os\n",
    "\n",
    "def read_data_set(filename):\n",
    "    df = pd.read_csv(filename, header = 0)\n",
    "    y = df.label.values\n",
    "    x = df.drop(['label'],axis=1).values\n",
    "    return x, y\n",
    "\n",
    "x, y = read_data_set('fashion-mnist_train.csv')\n",
    "testX, testY = read_data_set('fashion-mnist_test.csv')\n",
    "\n",
    "def toOneHot(y):\n",
    "    one_hot = np.zeros((len(y), np.amax(y)+1))\n",
    "    one_hot[np.arange(len(y)), y] = 1\n",
    "    return one_hot\n",
    "\n",
    "y = toOneHot(y)\n",
    "testY = toOneHot(testY)\n"
   ]
  },
  {
   "cell_type": "code",
   "execution_count": 3,
   "metadata": {},
   "outputs": [],
   "source": [
    "n_samples = 1000\n",
    "testX, testY = testX[0:int(n_samples/3)], testY[0:int(n_samples/3)]\n",
    "x, y = x[0:n_samples], y[0:n_samples]"
   ]
  },
  {
   "cell_type": "markdown",
   "metadata": {},
   "source": [
    "## Display random image"
   ]
  },
  {
   "cell_type": "code",
   "execution_count": 4,
   "metadata": {},
   "outputs": [
    {
     "data": {
      "image/png": "[encoded data removed]",
      "text/plain": [
       "<Figure size 432x288 with 1 Axes>"
      ]
     },
     "metadata": {
      "needs_background": "light"
     },
     "output_type": "display_data"
    }
   ],
   "source": [
    "%matplotlib inline\n",
    "import random\n",
    "import matplotlib\n",
    "import matplotlib.pyplot as plt\n",
    "    \n",
    "i = random.randint(0, len(x))\n",
    "plt.imshow(x[i].reshape(28,28), cmap = matplotlib.cm.binary)\n",
    "plt.axis(\"off\")\n",
    "plt.show()"
   ]
  },
  {
   "cell_type": "code",
   "execution_count": 5,
   "metadata": {},
   "outputs": [
    {
     "name": "stderr",
     "output_type": "stream",
     "text": [
      "/Users/scottcondron/anaconda3/envs/lab1/lib/python3.7/site-packages/sklearn/utils/validation.py:475: DataConversionWarning: Data with input dtype int64 was converted to float64 by the scale function.\n",
      "  warnings.warn(msg, DataConversionWarning)\n"
     ]
    }
   ],
   "source": [
    "from sklearn.preprocessing import scale\n",
    "\n",
    "x = scale( x, axis=0, with_mean=True, with_std=True, copy=True )\n",
    "testX = scale( testX, axis=0, with_mean=True, with_std=True, copy=True )\n"
   ]
  },
  {
   "cell_type": "code",
   "execution_count": 6,
   "metadata": {},
   "outputs": [],
   "source": [
    "hidden_size = 2**7\n",
    "input_size = 28 * 28\n",
    "output_size = 10"
   ]
  },
  {
   "cell_type": "code",
   "execution_count": 7,
   "metadata": {},
   "outputs": [],
   "source": [
    "import math\n",
    "from sklearn.metrics import accuracy_score\n",
    "\n",
    "class Activation:\n",
    "    \n",
    "    @staticmethod\n",
    "    def relu(x):\n",
    "        return np.maximum(0, x)\n",
    "    \n",
    "    @staticmethod\n",
    "    def softmax(x):\n",
    "        \"\"\" Use at output for multiclass problems for probabilities that sum to 1\n",
    "        \"\"\"\n",
    "        x -= np.max(x)\n",
    "        sm = (np.exp(x).T / np.sum(np.exp(x),axis=1)).T\n",
    "        return sm \n",
    "    \n",
    "class Loss:\n",
    "    @staticmethod\n",
    "    def crossEntropy(y, yhat):\n",
    "        \"\"\" Calculate Cost function\n",
    "        \"\"\"\n",
    "        m = y.shape[1]\n",
    "        return - 1./m * np.nansum(np.multiply(yhat, safeLog(y)) + np.multiply((1-yhat), safeLog(1-y)))\n",
    "    \n",
    "    \n",
    "def add_dropout(x, P=0.8):\n",
    "    \"\"\" Add dropout\n",
    "    \"\"\"\n",
    "    dropoutMask = (np.random.rand(*x.shape) < P) / P \n",
    "    x = x * dropoutMask\n",
    "    return x\n",
    "\n",
    "def get_prediction(X, weights, biases):\n",
    "    weights_1, weights_2 = weights[0], weights[1]\n",
    "    \n",
    "    bias_1, bias_2 = biases[0], biases[1]\n",
    "    h1 = Activation.relu(X.dot(weights_1) + bias_1)\n",
    "    y2 = h1.dot(weights_2) + bias_2\n",
    "    \n",
    "    y_pred = Activation.softmax(y2)\n",
    "    return y_pred\n",
    "\n",
    "def softmax(z):\n",
    "    z -= np.max(z)\n",
    "    sm = (np.exp(z).T / np.sum(np.exp(z),axis=1)).T\n",
    "    return sm\n",
    "\n",
    "learningRates = []\n",
    "def learningRateStepDecay(iteration, initialLearningRate=0.1, iterations_drop=10.0):\n",
    "    \"\"\" Reduce learning rate by half at intervals during training\n",
    "    \"\"\"\n",
    "    drop = 0.99\n",
    "    learningRate = initialLearningRate * math.pow(drop,  \n",
    "           math.floor((1+iteration)/iterations_drop))\n",
    "    learningRates.append(learningRate)\n",
    "    return learningRate\n",
    "\n",
    "def safeLog(x): \n",
    "    tiny=1e-12\n",
    "    x = np.clip(x, tiny, 1. - tiny)\n",
    "    return np.log(x)\n",
    "    \n",
    "costValues = []\n",
    "\n",
    "def calulate_gradients(X, y, weights, biases, dropout=0.8, l2_reg=0.97):\n",
    "    \"\"\" Calculate the change for the weights matrix\n",
    "    \"\"\"\n",
    "\n",
    "    W1, b1 = weights[0], biases[0]\n",
    "    W2, b2 = weights[1], biases[1]\n",
    "    N, D = X.shape\n",
    "\n",
    "    y1 = X.dot(W1) + b1 \n",
    "    h1 = Activation.relu(y1)\n",
    "    y2 = h1.dot(W2) + b2\n",
    "    scores = y2\n",
    "    probs = Activation.softmax(scores)     \n",
    "    dy2 = probs - y\n",
    "    dy2 /= N\n",
    "    dW2 = h1.T.dot(dy2)\n",
    "    if use_dropout==True:\n",
    "        dW2 = add_dropout(dW2, dropout)\n",
    "    if use_l2==True:\n",
    "        dW2 += -l2_reg * W2\n",
    "    dh1 = dy2.dot(W2.T)\n",
    "    dy1 = dh1 * (y1 >= 0)\n",
    "    dW1 = X.T.dot(dy1)\n",
    "    db1 = np.sum(dy1, axis=0)\n",
    "    db2 = np.sum(dy2, axis=0)\n",
    "    \n",
    "    grads = {}\n",
    "    grads['W1'] = dW1\n",
    "    grads['W2'] = dW2\n",
    "    grads['b1'] = db1\n",
    "    grads['b2'] = db2\n",
    "     \n",
    "    return grads\n",
    "\n",
    "def accuracy(yhat, y):\n",
    "    yhat_indices = np.argmax(yhat, axis=1)\n",
    "    y_indices = np.argmax(y, axis=1)\n",
    "    return accuracy_score(y_indices, yhat_indices)\n"
   ]
  },
  {
   "cell_type": "code",
   "execution_count": 11,
   "metadata": {},
   "outputs": [],
   "source": [
    "train_accs = []\n",
    "val_accs = []\n",
    "cost = []\n",
    "ITERATIONS = 1000\n",
    "\n",
    "def get_minibatch(X, y, minibatch_size):\n",
    "    minibatches = []\n",
    "\n",
    "    X, y = shuffle(X, y)\n",
    "\n",
    "    for i in range(0, X.shape[0], minibatch_size):\n",
    "        X_mini = X[i:i + minibatch_size]\n",
    "        y_mini = y[i:i + minibatch_size]\n",
    "\n",
    "        minibatches.append((X_mini, y_mini))\n",
    "\n",
    "    return minibatches\n",
    "\n",
    "def train(learning_rate, dropout_rate, randomisation, l2_reg):\n",
    "    minibatch_size = 20\n",
    "    minibatches = get_minibatch(x, y, minibatch_size)\n",
    "    learning_rate_annealing = False\n",
    "    b1 = np.zeros(hidden_size)\n",
    "    b2 = np.zeros(output_size)\n",
    "    \n",
    "    if (randomisation == \"Random\"):\n",
    "        std=1e-1\n",
    "        w1 = np.random.randn(input_size, hidden_size) * std\n",
    "        w2 = np.random.randn(hidden_size, output_size) * std\n",
    "             \n",
    "    if (randomisation == \"Zero\"):\n",
    "        w1 = np.zeros((input_size, hidden_size))\n",
    "        w2 = np.zeros((hidden_size, output_size))\n",
    "    \n",
    "    if (randomisation == \"He-et-al\"):\n",
    "        w1 = np.random.randn(input_size, hidden_size) * np.sqrt(2.0 / input_size)\n",
    "        w2 = np.random.randn(hidden_size, output_size) * np.sqrt(2.0 / hidden_size)\n",
    "    \n",
    "    for i in range(ITERATIONS):\n",
    "        idx = np.random.randint(0, len(minibatches))        \n",
    "        X_mini, y_mini = minibatches[idx]\n",
    "        if (learning_rate_annealing):\n",
    "            learning_rate = learningRateStepDecay(i, learning_rate, ITERATIONS/10)\n",
    "        gradients = calulate_gradients(X_mini, y_mini, weights=[w1, w2], biases=[b1, b2], dropout=dropout_rate, l2_reg=l2_reg)\n",
    "\n",
    "        w1 += -learning_rate * gradients['W1']\n",
    "        w2 += -learning_rate * gradients['W2']\n",
    "        b1 += -learning_rate * gradients['b1']\n",
    "        b2 += -learning_rate * gradients['b2'] \n",
    "                \n",
    "        predicted_y_train = get_prediction(x, weights=[w1, w2], biases=[b1, b2])\n",
    "        train_acc = accuracy(predicted_y_train, y)\n",
    "        train_accs.append(train_acc)\n",
    "        predicted_y_test = get_prediction(testX, weights=[w1, w2], biases=[b1, b2])\n",
    "        val_acc = accuracy(predicted_y_test, testY)\n",
    "        val_accs.append(val_acc)\n",
    "\n",
    "        loss = -np.sum((y * np.log(predicted_y_train)))\n",
    "        cost.append(loss)\n",
    "        \n",
    "randomisation = \"He-et-al\"\n",
    "dropout_rate = 0.7\n",
    "learning_rate = 1e-3\n",
    "final_acc = []\n",
    "dropout_rates = []\n",
    "use_dropout = False\n",
    "# for reg in range(1, 10):\n",
    "#     reg = reg / 10\n",
    "#     dropout_rates.append(reg)\n",
    "#     train(learning_rate, reg, randomisation, reg)\n",
    "#     final_acc.append(val_accs[-1])\n",
    "\n",
    "# plt.show()\n",
    "\n",
    "\n",
    "\n",
    "reg = 1\n",
    "train(learning_rate, dropout_rate, randomisation, reg)\n",
    "        "
   ]
  },
  {
   "cell_type": "code",
   "execution_count": 12,
   "metadata": {},
   "outputs": [
    {
     "name": "stdout",
     "output_type": "stream",
     "text": [
      "0.001\n"
     ]
    },
    {
     "data": {
      "image/png": "[encoded data removed]",
      "text/plain": [
       "<Figure size 432x288 with 1 Axes>"
      ]
     },
     "metadata": {
      "needs_background": "light"
     },
     "output_type": "display_data"
    },
    {
     "data": {
      "image/png": "[encoded data removed]",
      "text/plain": [
       "<Figure size 432x288 with 1 Axes>"
      ]
     },
     "metadata": {
      "needs_background": "light"
     },
     "output_type": "display_data"
    }
   ],
   "source": [
    "use_dropout = False\n",
    "use_l2 = True\n",
    "print(learning_rate)\n",
    "fig, ax = plt.subplots()\n",
    "\n",
    "ax.plot(train_accs,  label=\"Training Accuracy\")\n",
    "ax.plot(val_accs, label=\"Validation Accuracy\")\n",
    "# title = f'Dropout: {dropout}. \\n L2 Regularization: {l2}'\n",
    "plt.title(f'L2 regularisation rate: {reg}')\n",
    "legend = ax.legend(loc='lower center', shadow=True)\n",
    "plt.ylim(0,1)\n",
    "# plt.title(f\"Weights Initialisation: {randomisation}\")\n",
    "plt.ylabel('Accuracy')\n",
    "plt.xlabel('Iterations')\n",
    "plt.show()\n",
    "\n",
    "plt.plot(cost)\n",
    "plt.ylabel('Cost')\n",
    "plt.xlabel('Iterations')\n",
    "plt.show()\n"
   ]
  },
  {
   "cell_type": "code",
   "execution_count": 77,
   "metadata": {},
   "outputs": [
    {
     "data": {
      "image/png": "[encoded data removed]",
      "text/plain": [
       "<Figure size 432x288 with 1 Axes>"
      ]
     },
     "metadata": {
      "needs_background": "light"
     },
     "output_type": "display_data"
    }
   ],
   "source": [
    "# fig, ax = plt.subplots()\n",
    "\n",
    "# ax.plot(dropout_rates, final_acc, label=\"Validation Accuracy\")\n",
    "# # ax.plot(val_accs, label=\"Validation Accuracy\")\n",
    "# # title = f'Dropout: {dropout}. \\n L2 Regularization: {l2}'\n",
    "# # title = f'Learning Rate: {learning_rate}'\n",
    "# legend = ax.legend(loc='lower center', shadow=True)\n",
    "\n",
    "# plt.title(\"Accuracy variation with L2 Regularisation rate\")\n",
    "\n",
    "# plt.ylabel('Accuracy')\n",
    "# plt.xlabel('Dropout Rate')\n",
    "# plt.show()"
   ]
  }
 ],
 "metadata": {
  "kernelspec": {
   "display_name": "Python 3",
   "language": "python",
   "name": "python3"
  },
  "language_info": {
   "codemirror_mode": {
    "name": "ipython",
    "version": 3
   },
   "file_extension": ".py",
   "mimetype": "text/x-python",
   "name": "python",
   "nbconvert_exporter": "python",
   "pygments_lexer": "ipython3",
   "version": "3.6.3"
  }
 },
 "nbformat": 4,
 "nbformat_minor": 2
}
